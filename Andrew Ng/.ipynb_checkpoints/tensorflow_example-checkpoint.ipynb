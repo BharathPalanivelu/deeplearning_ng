{
 "cells": [
  {
   "cell_type": "code",
   "execution_count": 6,
   "metadata": {},
   "outputs": [
    {
     "name": "stdout",
     "output_type": "stream",
     "text": [
      "[ 0.]\n"
     ]
    }
   ],
   "source": [
    "#python3内核下运行\n",
    "import numpy as np \n",
    "import tensorflow as tf\n",
    "\n",
    "coefficients = np.array([[1], [-20], [25]])\n",
    "\n",
    "w = tf.Variable([0],dtype=tf.float32)\n",
    "x = tf.placeholder(tf.float32, [3,1])  #x设置为之后再赋值的变量\n",
    "\n",
    "cost = x[0][0]*w**2 + x[1][0]*w + x[2][0] #代价函数\n",
    "train = tf.train.GradientDescentOptimizer(0.01).minimize(cost) #梯度下降法，目标是最小化损失函数\n",
    "\n",
    "init = tf.global_variables_initializer()\n",
    "session = tf.Session() \n",
    "session.run(init) \n",
    "print (session.run(w)) #运行一次梯度下降"
   ]
  },
  {
   "cell_type": "code",
   "execution_count": 7,
   "metadata": {},
   "outputs": [
    {
     "name": "stdout",
     "output_type": "stream",
     "text": [
      "[ 9.99997711]\n"
     ]
    }
   ],
   "source": [
    "for i in range(1000): #1000次梯度下降\n",
    "    session.run(train, feed_dict={x:coefficients}) #feed_dict给x赋值\n",
    "print (session.run(w)) "
   ]
  },
  {
   "cell_type": "code",
   "execution_count": null,
   "metadata": {
    "collapsed": true
   },
   "outputs": [],
   "source": []
  }
 ],
 "metadata": {
  "kernelspec": {
   "display_name": "Python 3",
   "language": "python",
   "name": "python3"
  },
  "language_info": {
   "codemirror_mode": {
    "name": "ipython",
    "version": 3
   },
   "file_extension": ".py",
   "mimetype": "text/x-python",
   "name": "python",
   "nbconvert_exporter": "python",
   "pygments_lexer": "ipython3",
   "version": "3.6.1"
  }
 },
 "nbformat": 4,
 "nbformat_minor": 2
}
