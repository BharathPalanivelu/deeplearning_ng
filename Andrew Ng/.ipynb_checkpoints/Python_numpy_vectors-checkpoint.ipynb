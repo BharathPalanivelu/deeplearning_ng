{
 "cells": [
  {
   "cell_type": "code",
   "execution_count": 30,
   "metadata": {},
   "outputs": [
    {
     "name": "stdout",
     "output_type": "stream",
     "text": [
      "[ 0.9713237   0.13051949  0.14906821  0.12545908  0.1461366 ]\n"
     ]
    }
   ],
   "source": [
    "import numpy as np\n",
    "\n",
    "a = np.random.rand(5)  #5个数，而不是1x5向量\n",
    "print a                #秩为1的数组，不推荐"
   ]
  },
  {
   "cell_type": "code",
   "execution_count": 38,
   "metadata": {
    "collapsed": true
   },
   "outputs": [],
   "source": [
    "#a = a.reshape((1,5)) #用来将数组转换为向量"
   ]
  },
  {
   "cell_type": "code",
   "execution_count": 39,
   "metadata": {},
   "outputs": [
    {
     "name": "stdout",
     "output_type": "stream",
     "text": [
      "(1, 5)\n"
     ]
    }
   ],
   "source": [
    "print (a.shape)"
   ]
  },
  {
   "cell_type": "code",
   "execution_count": 32,
   "metadata": {},
   "outputs": [
    {
     "name": "stdout",
     "output_type": "stream",
     "text": [
      "[ 0.9713237   0.13051949  0.14906821  0.12545908  0.1461366 ]\n"
     ]
    }
   ],
   "source": [
    "print(a.T) "
   ]
  },
  {
   "cell_type": "code",
   "execution_count": 33,
   "metadata": {},
   "outputs": [
    {
     "name": "stdout",
     "output_type": "stream",
     "text": [
      "1.01982228389\n"
     ]
    }
   ],
   "source": [
    "print(np.dot(a.T,a))"
   ]
  },
  {
   "cell_type": "code",
   "execution_count": 34,
   "metadata": {},
   "outputs": [
    {
     "name": "stdout",
     "output_type": "stream",
     "text": [
      "[[ 0.75915402  0.12020465  0.17715647  0.51913245  0.82659901]]\n"
     ]
    }
   ],
   "source": [
    "a = np.random.rand(1,5) #1x5的向量 ,推荐使用\n",
    "print a"
   ]
  },
  {
   "cell_type": "code",
   "execution_count": 37,
   "metadata": {},
   "outputs": [],
   "source": [
    "assert(a.shape == (1,5)) "
   ]
  },
  {
   "cell_type": "code",
   "execution_count": 24,
   "metadata": {},
   "outputs": [
    {
     "name": "stdout",
     "output_type": "stream",
     "text": [
      "[[ 0.63267743]\n",
      " [ 0.09466521]\n",
      " [ 0.25313968]\n",
      " [ 0.1638614 ]\n",
      " [ 0.47001203]]\n"
     ]
    }
   ],
   "source": [
    "print a.T #是个列向量，和上面不同（两个方括号）"
   ]
  },
  {
   "cell_type": "code",
   "execution_count": 26,
   "metadata": {},
   "outputs": [
    {
     "name": "stdout",
     "output_type": "stream",
     "text": [
      "[[ 0.40028073  0.05989254  0.16015576  0.10367141  0.29736601]\n",
      " [ 0.05989254  0.0089615   0.02396352  0.01551197  0.04449379]\n",
      " [ 0.16015576  0.02396352  0.0640797   0.04147982  0.1189787 ]\n",
      " [ 0.10367141  0.01551197  0.04147982  0.02685056  0.07701683]\n",
      " [ 0.29736601  0.04449379  0.1189787   0.07701683  0.22091131]]\n"
     ]
    }
   ],
   "source": [
    "print np.dot(a.T,a)"
   ]
  },
  {
   "cell_type": "code",
   "execution_count": null,
   "metadata": {
    "collapsed": true
   },
   "outputs": [],
   "source": []
  }
 ],
 "metadata": {
  "kernelspec": {
   "display_name": "Python 2",
   "language": "python",
   "name": "python2"
  },
  "language_info": {
   "codemirror_mode": {
    "name": "ipython",
    "version": 2
   },
   "file_extension": ".py",
   "mimetype": "text/x-python",
   "name": "python",
   "nbconvert_exporter": "python",
   "pygments_lexer": "ipython2",
   "version": "2.7.13"
  }
 },
 "nbformat": 4,
 "nbformat_minor": 2
}
